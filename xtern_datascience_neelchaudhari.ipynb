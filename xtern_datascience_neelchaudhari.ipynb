{
 "cells": [
  {
   "cell_type": "code",
   "execution_count": 1,
   "metadata": {},
   "outputs": [],
   "source": [
    "import pandas as pd"
   ]
  },
  {
   "cell_type": "code",
   "execution_count": 2,
   "metadata": {},
   "outputs": [],
   "source": [
    "df = pd.read_csv(\"./2019-XTern- Work Sample Assessment Data Science-DS.csv\")"
   ]
  },
  {
   "cell_type": "code",
   "execution_count": 3,
   "metadata": {},
   "outputs": [
    {
     "data": {
      "text/html": [
       "<div>\n",
       "<style scoped>\n",
       "    .dataframe tbody tr th:only-of-type {\n",
       "        vertical-align: middle;\n",
       "    }\n",
       "\n",
       "    .dataframe tbody tr th {\n",
       "        vertical-align: top;\n",
       "    }\n",
       "\n",
       "    .dataframe thead th {\n",
       "        text-align: right;\n",
       "    }\n",
       "</style>\n",
       "<table border=\"1\" class=\"dataframe\">\n",
       "  <thead>\n",
       "    <tr style=\"text-align: right;\">\n",
       "      <th></th>\n",
       "      <th>scooter_id</th>\n",
       "      <th>xcoordinate</th>\n",
       "      <th>ycoordinate</th>\n",
       "      <th>power_level</th>\n",
       "    </tr>\n",
       "  </thead>\n",
       "  <tbody>\n",
       "    <tr>\n",
       "      <td>0</td>\n",
       "      <td>0</td>\n",
       "      <td>0.906835</td>\n",
       "      <td>0.776484</td>\n",
       "      <td>0</td>\n",
       "    </tr>\n",
       "    <tr>\n",
       "      <td>1</td>\n",
       "      <td>1</td>\n",
       "      <td>0.928587</td>\n",
       "      <td>0.804964</td>\n",
       "      <td>2</td>\n",
       "    </tr>\n",
       "    <tr>\n",
       "      <td>2</td>\n",
       "      <td>2</td>\n",
       "      <td>0.904091</td>\n",
       "      <td>0.784043</td>\n",
       "      <td>1</td>\n",
       "    </tr>\n",
       "    <tr>\n",
       "      <td>3</td>\n",
       "      <td>3</td>\n",
       "      <td>0.906752</td>\n",
       "      <td>0.804461</td>\n",
       "      <td>0</td>\n",
       "    </tr>\n",
       "    <tr>\n",
       "      <td>4</td>\n",
       "      <td>4</td>\n",
       "      <td>0.900641</td>\n",
       "      <td>0.781683</td>\n",
       "      <td>4</td>\n",
       "    </tr>\n",
       "    <tr>\n",
       "      <td>...</td>\n",
       "      <td>...</td>\n",
       "      <td>...</td>\n",
       "      <td>...</td>\n",
       "      <td>...</td>\n",
       "    </tr>\n",
       "    <tr>\n",
       "      <td>25663</td>\n",
       "      <td>25663</td>\n",
       "      <td>0.943601</td>\n",
       "      <td>1.292008</td>\n",
       "      <td>0</td>\n",
       "    </tr>\n",
       "    <tr>\n",
       "      <td>25664</td>\n",
       "      <td>25664</td>\n",
       "      <td>0.971847</td>\n",
       "      <td>1.282083</td>\n",
       "      <td>0</td>\n",
       "    </tr>\n",
       "    <tr>\n",
       "      <td>25665</td>\n",
       "      <td>25665</td>\n",
       "      <td>0.956886</td>\n",
       "      <td>1.286652</td>\n",
       "      <td>4</td>\n",
       "    </tr>\n",
       "    <tr>\n",
       "      <td>25666</td>\n",
       "      <td>25666</td>\n",
       "      <td>0.959825</td>\n",
       "      <td>1.297630</td>\n",
       "      <td>1</td>\n",
       "    </tr>\n",
       "    <tr>\n",
       "      <td>25667</td>\n",
       "      <td>25667</td>\n",
       "      <td>0.963641</td>\n",
       "      <td>1.300093</td>\n",
       "      <td>4</td>\n",
       "    </tr>\n",
       "  </tbody>\n",
       "</table>\n",
       "<p>25668 rows × 4 columns</p>\n",
       "</div>"
      ],
      "text/plain": [
       "       scooter_id  xcoordinate  ycoordinate  power_level\n",
       "0               0     0.906835     0.776484            0\n",
       "1               1     0.928587     0.804964            2\n",
       "2               2     0.904091     0.784043            1\n",
       "3               3     0.906752     0.804461            0\n",
       "4               4     0.900641     0.781683            4\n",
       "...           ...          ...          ...          ...\n",
       "25663       25663     0.943601     1.292008            0\n",
       "25664       25664     0.971847     1.282083            0\n",
       "25665       25665     0.956886     1.286652            4\n",
       "25666       25666     0.959825     1.297630            1\n",
       "25667       25667     0.963641     1.300093            4\n",
       "\n",
       "[25668 rows x 4 columns]"
      ]
     },
     "execution_count": 3,
     "metadata": {},
     "output_type": "execute_result"
    }
   ],
   "source": [
    "df"
   ]
  },
  {
   "cell_type": "code",
   "execution_count": 9,
   "metadata": {},
   "outputs": [
    {
     "data": {
      "text/plain": [
       "0    4388\n",
       "5    4343\n",
       "4    4284\n",
       "1    4248\n",
       "2    4245\n",
       "3    4160\n",
       "Name: power_level, dtype: int64"
      ]
     },
     "execution_count": 9,
     "metadata": {},
     "output_type": "execute_result"
    }
   ],
   "source": [
    "df.power_level.value_counts()"
   ]
  },
  {
   "cell_type": "code",
   "execution_count": 11,
   "metadata": {},
   "outputs": [
    {
     "data": {
      "text/plain": [
       "<matplotlib.axes._subplots.AxesSubplot at 0x12124f518>"
      ]
     },
     "execution_count": 11,
     "metadata": {},
     "output_type": "execute_result"
    },
    {
     "data": {
      "image/png": "[encoded data removed]",
      "text/plain": [
       "<Figure size 432x288 with 1 Axes>"
      ]
     },
     "metadata": {
      "needs_background": "light"
     },
     "output_type": "display_data"
    }
   ],
   "source": [
    "df.plot.scatter(x=\"xcoordinate\", y=\"ycoordinate\", c=\"Blue\")"
   ]
  },
  {
   "cell_type": "markdown",
   "metadata": {},
   "source": [
    "This shows that the locations of the scooters are in clear clusters, specifically 19 different areas"
   ]
  },
  {
   "cell_type": "code",
   "execution_count": 23,
   "metadata": {},
   "outputs": [
    {
     "data": {
      "text/plain": [
       "(array([[0., 0., 0., ..., 0., 0., 0.],\n",
       "        [0., 0., 0., ..., 0., 0., 0.],\n",
       "        [0., 0., 0., ..., 0., 0., 0.],\n",
       "        ...,\n",
       "        [0., 0., 0., ..., 0., 0., 0.],\n",
       "        [0., 0., 0., ..., 0., 0., 0.],\n",
       "        [0., 0., 0., ..., 0., 0., 0.]]),\n",
       " array([-3.00061531e-01, -2.66669950e-01, -2.33278370e-01, -1.99886789e-01,\n",
       "        -1.66495209e-01, -1.33103628e-01, -9.97120478e-02, -6.63204672e-02,\n",
       "        -3.29288867e-02,  4.62693860e-04,  3.38542744e-02,  6.72458549e-02,\n",
       "         1.00637435e-01,  1.34029016e-01,  1.67420597e-01,  2.00812177e-01,\n",
       "         2.34203758e-01,  2.67595338e-01,  3.00986919e-01,  3.34378499e-01,\n",
       "         3.67770080e-01,  4.01161660e-01,  4.34553241e-01,  4.67944821e-01,\n",
       "         5.01336402e-01,  5.34727982e-01,  5.68119563e-01,  6.01511144e-01,\n",
       "         6.34902724e-01,  6.68294305e-01,  7.01685885e-01,  7.35077466e-01,\n",
       "         7.68469046e-01,  8.01860627e-01,  8.35252207e-01,  8.68643788e-01,\n",
       "         9.02035368e-01,  9.35426949e-01,  9.68818530e-01,  1.00221011e+00,\n",
       "         1.03560169e+00,  1.06899327e+00,  1.10238485e+00,  1.13577643e+00,\n",
       "         1.16916801e+00,  1.20255959e+00,  1.23595117e+00,  1.26934275e+00,\n",
       "         1.30273433e+00,  1.33612592e+00,  1.36951750e+00]),\n",
       " array([-0.29019605, -0.2572486 , -0.22430115, -0.19135371, -0.15840626,\n",
       "        -0.12545881, -0.09251136, -0.05956391, -0.02661646,  0.00633099,\n",
       "         0.03927844,  0.07222589,  0.10517334,  0.13812079,  0.17106824,\n",
       "         0.20401569,  0.23696314,  0.26991059,  0.30285804,  0.33580549,\n",
       "         0.36875294,  0.40170039,  0.43464784,  0.46759529,  0.50054274,\n",
       "         0.53349019,  0.56643764,  0.59938509,  0.63233254,  0.66527998,\n",
       "         0.69822743,  0.73117488,  0.76412233,  0.79706978,  0.83001723,\n",
       "         0.86296468,  0.89591213,  0.92885958,  0.96180703,  0.99475448,\n",
       "         1.02770193,  1.06064938,  1.09359683,  1.12654428,  1.15949173,\n",
       "         1.19243918,  1.22538663,  1.25833408,  1.29128153,  1.32422898,\n",
       "         1.35717643]),\n",
       " <matplotlib.collections.QuadMesh at 0x1206c7cf8>)"
      ]
     },
     "execution_count": 23,
     "metadata": {},
     "output_type": "execute_result"
    },
    {
     "data": {
      "image/png": "[encoded data removed]",
      "text/plain": [
       "<Figure size 432x288 with 1 Axes>"
      ]
     },
     "metadata": {
      "needs_background": "light"
     },
     "output_type": "display_data"
    }
   ],
   "source": [
    "import matplotlib.pyplot as plt\n",
    "plt.hist2d(x=df.xcoordinate, y=df.ycoordinate, bins=50)"
   ]
  },
  {
   "cell_type": "markdown",
   "metadata": {},
   "source": [
    "This 2D histogram works as a heatmap to show the most popular areas. **The areas with the lighter yellow-ish colors are more dense and so represent the most popular scooter locations.** Based on this heatmap, **the single most popular location seems to be the area at around (0.2, 0.2).**"
   ]
  },
  {
   "cell_type": "code",
   "execution_count": 27,
   "metadata": {},
   "outputs": [
    {
     "data": {
      "text/plain": [
       "scooter_id     2205\n",
       "xcoordinate    2205\n",
       "ycoordinate    2205\n",
       "power_level    2205\n",
       "dtype: int64"
      ]
     },
     "execution_count": 27,
     "metadata": {},
     "output_type": "execute_result"
    }
   ],
   "source": [
    "df.loc[((df[\"xcoordinate\"] > 0.125) & (df[\"xcoordinate\"] < 0.3)) & ((df[\"ycoordinate\"] > 0.1) & (df[\"ycoordinate\"] < 0.25))].count()"
   ]
  },
  {
   "cell_type": "code",
   "execution_count": 28,
   "metadata": {},
   "outputs": [
    {
     "data": {
      "text/plain": [
       "scooter_id     971\n",
       "xcoordinate    971\n",
       "ycoordinate    971\n",
       "power_level    971\n",
       "dtype: int64"
      ]
     },
     "execution_count": 28,
     "metadata": {},
     "output_type": "execute_result"
    }
   ],
   "source": [
    "df.loc[((df[\"xcoordinate\"] > -0.25) & (df[\"xcoordinate\"] < 0)) & ((df[\"ycoordinate\"] > 0.25) & (df[\"ycoordinate\"] < 0.5))].count()"
   ]
  },
  {
   "cell_type": "markdown",
   "metadata": {},
   "source": [
    "The above commands were done to gauge the approximate amount of scooters at each of the clusters."
   ]
  },
  {
   "cell_type": "code",
   "execution_count": 31,
   "metadata": {},
   "outputs": [
    {
     "name": "stdout",
     "output_type": "stream",
     "text": [
      "Total time to charge all scooters (without transportation) = 64271\n"
     ]
    }
   ],
   "source": [
    "justScooterTime = 0\n",
    "for pw in df.power_level:\n",
    "    curr = (5 - pw)\n",
    "    justScooterTime += curr\n",
    "\n",
    "print(\"Total time to charge all scooters (without transportation) = \" + str(justScooterTime))"
   ]
  },
  {
   "cell_type": "markdown",
   "metadata": {},
   "source": [
    "The above command goes through each scooter, find its power level, and uses the power level to determine how many hours it would take to charge the scooter. All the charging times are summed up into justScooterTime. This assumes that the scooters charge linearly."
   ]
  },
  {
   "cell_type": "code",
   "execution_count": 42,
   "metadata": {},
   "outputs": [
    {
     "data": {
      "image/png": "[encoded data removed]",
      "text/plain": [
       "<Figure size 432x288 with 1 Axes>"
      ]
     },
     "metadata": {
      "needs_background": "light"
     },
     "output_type": "display_data"
    }
   ],
   "source": [
    "from sklearn.cluster import KMeans\n",
    "kmeans = KMeans(n_clusters=19).fit(df.loc[:, 'xcoordinate':'ycoordinate'])\n",
    "plt.scatter(x=df.xcoordinate, y=df.ycoordinate, c=\"Blue\")\n",
    "    \n",
    "plt.scatter(kmeans.cluster_centers_[:, 0], kmeans.cluster_centers_[:, 1], c='red', marker='x')\n",
    "    \n",
    "plt.title('Data points and cluster centroids')\n",
    "plt.show()"
   ]
  },
  {
   "cell_type": "markdown",
   "metadata": {},
   "source": [
    "This uses k-means clustering to find the different clusters and plot their centers. This will be used to find the distance for travel for the charging truck."
   ]
  },
  {
   "cell_type": "code",
   "execution_count": 53,
   "metadata": {},
   "outputs": [
    {
     "name": "stdout",
     "output_type": "stream",
     "text": [
      "Total distance traveled by truck for charging all areas = 1119.5792037350186\n"
     ]
    }
   ],
   "source": [
    "import math\n",
    "import numpy as np\n",
    "centers = kmeans.cluster_centers_\n",
    "distance = 0\n",
    "small = math.sqrt(((20.19 - (centers[0])[0])*(20.19 - (centers[0])[0]) + (20.19 - (centers[0])[1])*(20.19 - (centers[0])[1])))\n",
    "smallInd = 0\n",
    "smallArr = centers[0]\n",
    "for i in range(len(centers)):\n",
    "    curr = math.sqrt(((20.19 - (centers[i])[0])*(20.19 - (centers[i])[0]) + (20.19 - (centers[i])[1])*(20.19 - (centers[i])[1])))\n",
    "    if curr < small:\n",
    "        small = curr\n",
    "        smallInd = i\n",
    "        smallArr = centers[i]\n",
    "distance += small\n",
    "while len(centers) != 0:\n",
    "    distance += (2 * small)\n",
    "    centers = list(centers[:smallInd]) + list(centers[(smallInd+1):])\n",
    "    centers = np.array(centers)\n",
    "    if len(centers) == 0:\n",
    "        break\n",
    "    x = smallArr[0]\n",
    "    y = smallArr[1]\n",
    "    for i in range(len(centers)):\n",
    "        curr = math.sqrt(((x - (centers[i])[0])*(x - (centers[i])[0]) + (y - (centers[i])[1])*(y - (centers[i])[1])))\n",
    "        if curr < small:\n",
    "            small = curr\n",
    "            smallInd = i\n",
    "            smallArr = centers[i]\n",
    "    distance += small\n",
    "    small = math.sqrt(((20.19 - smallArr[0])*(20.19 - smallArr[0]) + (20.19 - smallArr[1])*(20.19 - smallArr[1])))\n",
    "distance += small\n",
    "print(\"Total distance traveled by truck for charging all areas = \" + str(distance))"
   ]
  },
  {
   "cell_type": "markdown",
   "metadata": {},
   "source": [
    "The above code calculates the total distance traveled for the truck between the 19 different areas. This assumes that the truck can fit all the scooters at each of the 19 areas. This strategy finds the area that is the shortest distance away from the parking coordinates (20.19, 20.19). It then goes to the area and picks up all the scooters, then goes back to the parking coordinates where the truck is parked to charge the scooters. It then goes back to the area to place the scooters back, and from their finds the next closest area to repeat the cycle until all 19 areas' scooters are charged."
   ]
  },
  {
   "cell_type": "markdown",
   "metadata": {},
   "source": [
    "Each area has many scooters, each having at least one scooter that is at power level 0. That means each time the truck is parked to charge the scooters, it must wait 5 hours to make sure all scooters are charged to power level 5. It charges scooters from 19 different areas so:\n",
    "\n",
    "Total time parked charging scooters = 19 * 5 = 95 hrs\n",
    "\n",
    "On top of this, there is the travel time for the truck to move around. Assuming the truck always moves at 50 mph, and the coordinates correspond to mile values and distances, then:\n",
    "\n",
    "Total time spent traveling in truck = 1119.5792037350186 / 50 = 22.3915840747 hrs\n",
    "\n",
    "This means the Operation Time Cost for this strategy of charging all the scooters is:\n",
    "\n",
    "**Operation Time Cost = 95 + 22.3915840747 = 117.391584075 hours**"
   ]
  },
  {
   "cell_type": "code",
   "execution_count": null,
   "metadata": {},
   "outputs": [],
   "source": []
  }
 ],
 "metadata": {
  "kernelspec": {
   "display_name": "Python 3",
   "language": "python",
   "name": "python3"
  },
  "language_info": {
   "codemirror_mode": {
    "name": "ipython",
    "version": 3
   },
   "file_extension": ".py",
   "mimetype": "text/x-python",
   "name": "python",
   "nbconvert_exporter": "python",
   "pygments_lexer": "ipython3",
   "version": "3.7.3"
  }
 },
 "nbformat": 4,
 "nbformat_minor": 2
}
